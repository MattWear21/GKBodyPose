{
 "cells": [
  {
   "cell_type": "markdown",
   "metadata": {},
   "source": [
    "# Expected Saves Model"
   ]
  },
  {
   "cell_type": "code",
   "execution_count": 1,
   "metadata": {},
   "outputs": [
    {
     "name": "stderr",
     "output_type": "stream",
     "text": [
      "/opt/anaconda3/lib/python3.7/site-packages/statsmodels/tools/_testing.py:19: FutureWarning: pandas.util.testing is deprecated. Use the functions in the public API at pandas.testing instead.\n",
      "  import pandas.util.testing as tm\n"
     ]
    }
   ],
   "source": [
    "import pandas as pd\n",
    "import numpy as np\n",
    "import matplotlib.pyplot as plt\n",
    "import gkpose as gk\n",
    "from sklearn.preprocessing import StandardScaler\n",
    "from sklearn.model_selection import train_test_split\n",
    "from sklearn.svm import SVC\n",
    "from sklearn.linear_model import LogisticRegression\n",
    "from sklearn.ensemble import RandomForestClassifier\n",
    "from sklearn.naive_bayes import GaussianNB\n",
    "from mplsoccer import VerticalPitch\n",
    "from matplotlib.lines import Line2D"
   ]
  },
  {
   "cell_type": "code",
   "execution_count": 2,
   "metadata": {},
   "outputs": [],
   "source": [
    "def val_accuracy(model, X_val, y_val):\n",
    "    return np.mean(model.predict(X_val) == np.array(y_val))"
   ]
  },
  {
   "cell_type": "code",
   "execution_count": 3,
   "metadata": {},
   "outputs": [],
   "source": [
    "def getxSInput(df, scaler, angle, dist, up=0, cluster=0, assist_type='Pass'):\n",
    "    k = len(train_df.filter(regex='cluster').columns)\n",
    "    angle_dist = scaler.transform([[angle,dist]])[0]\n",
    "    up = np.array([up])\n",
    "    clust = np.zeros(k)\n",
    "    clust[cluster] = 1\n",
    "    if assist_type == 'Cross':\n",
    "        ass_t = np.array([1, 0, 0])\n",
    "    elif assist_type == 'Other':\n",
    "        ass_t = np.array([0, 1, 0])\n",
    "    else:\n",
    "        ass_t = np.array([0, 0, 1])\n",
    "    return np.array([np.concatenate((angle_dist,up,clust))])"
   ]
  },
  {
   "cell_type": "code",
   "execution_count": 4,
   "metadata": {},
   "outputs": [],
   "source": [
    "def importMLData(clusters_name, raw_name = 'raw_df'):\n",
    "    df = pd.read_csv('ml/' + raw_name + '.csv')\n",
    "    clusters = pd.read_csv('ml/' + clusters_name + '.csv')\n",
    "    df['cluster'] = np.array(clusters['cluster'])\n",
    "    return df"
   ]
  },
  {
   "cell_type": "code",
   "execution_count": 5,
   "metadata": {},
   "outputs": [],
   "source": [
    "def getTrainTest(df):\n",
    "    on_target = (df['shot_outcome_name'] == 'Goal') | (df['shot_outcome_name'] == 'Saved')\n",
    "    features = ['photo_id','shot_outcome_name','cluster','shot_angle','distance_to_goal',\n",
    "                'under_pressure']\n",
    "    ml_df = df.loc[on_target, features].copy()\n",
    "    ml_df['shot_outcome_name'].replace({'Goal': 0, 'Saved': 1}, inplace=True)\n",
    "    ml_df = pd.get_dummies(ml_df, columns=['cluster'])\n",
    "    ml_df = ml_df.reset_index(drop=True)\n",
    "    test_ind = np.random.choice(range(ml_df.shape[0]), int(ml_df.shape[0] * 0.2))\n",
    "    test_df = ml_df.loc[test_ind, :].copy()\n",
    "    train_df = ml_df.drop(test_ind).reset_index(drop=True)\n",
    "    return train_df, test_df"
   ]
  },
  {
   "cell_type": "code",
   "execution_count": 6,
   "metadata": {},
   "outputs": [],
   "source": [
    "#df = importMLData(clusters_name = 'kmeans_2d_k4')"
   ]
  },
  {
   "cell_type": "code",
   "execution_count": 119,
   "metadata": {},
   "outputs": [],
   "source": [
    "#train_df, test_df = getTrainTest(df)"
   ]
  },
  {
   "cell_type": "markdown",
   "metadata": {},
   "source": [
    "## Pose Features: 2 Clusters"
   ]
  },
  {
   "cell_type": "code",
   "execution_count": 6,
   "metadata": {},
   "outputs": [],
   "source": [
    "def getXSMap(train_df, model, scaler, num_clusters, up=0, ass='Pass'):\n",
    "    #Sets: Probability Map\n",
    "    x_range = np.linspace(90, 120.01, 50)\n",
    "    y_range = np.linspace(0, 80, 50)\n",
    "    xs_map = np.zeros((num_clusters, len(x_range), len(y_range)))\n",
    "    for cluster in range(num_clusters):\n",
    "        for x in range(len(x_range)):\n",
    "            for y in range(len(y_range)):\n",
    "                d = gk.distance_to_goal(shooter_x=x_range[x], shooter_y=y_range[y])\n",
    "                a = gk.goal_angle(shooter_x=x_range[x], shooter_y=y_range[y])\n",
    "                xs = []\n",
    "                for n in range(num_clusters):\n",
    "                    inp = getxSInput(train_df,scaler,angle=a,dist=d,up=up,cluster=n)\n",
    "                    xs.append(model.predict_proba(inp)[0][1])\n",
    "                mean_xs = np.mean(xs)\n",
    "                inp = getxSInput(train_df,scaler,angle=a,dist=d,up=up,cluster=cluster)\n",
    "                xs_map[cluster][x, y] = model.predict_proba(inp)[0][1] - mean_xs\n",
    "        print(\"done cluster\", cluster)\n",
    "    return xs_map"
   ]
  },
  {
   "cell_type": "code",
   "execution_count": 7,
   "metadata": {},
   "outputs": [],
   "source": [
    "def plotXSMap(xs_map, num_clusters, cluster_names, save='test'):\n",
    "    pitch = VerticalPitch(half=True, goal_type='box', pad_bottom=-30, \n",
    "                          pad_left=-10, pad_right=-10, line_color='black')\n",
    "    fig, ax = pitch.draw(figsize=(10, 5), nrows=1, ncols=num_clusters, tight_layout=True)\n",
    "    for i in range(num_clusters):\n",
    "        im = ax[i].imshow(xs_map[i], cmap=plt.cm.Greens, interpolation='none', \n",
    "                       vmin=-0.06, vmax=0.08, extent=[0,80,120,90])\n",
    "        ax[i].set_title('Cluster ' + str(i) + ': ' + cluster_names[i])\n",
    "    cax = plt.axes([1, 0.3, 0.05, 0.4])\n",
    "    plt.colorbar(im, cax=cax)\n",
    "    if save != 'test':\n",
    "        plt.savefig('viz/1v1s/' + save + '.png', dpi=500, bbox_inches='tight')"
   ]
  },
  {
   "cell_type": "code",
   "execution_count": 8,
   "metadata": {},
   "outputs": [],
   "source": [
    "def plotBestTechnique(xs_map):\n",
    "    #Best technique to use\n",
    "    pitch = VerticalPitch(half=True, goal_type='box', pad_bottom=-30, \n",
    "                          pad_left=-10, pad_right=-10, line_color='black',\n",
    "                          orientation='horizontal')\n",
    "    fig, ax = pitch.draw()\n",
    "    cmap = plt.cm.tab20\n",
    "    im = ax.imshow(np.argmax(xs_map, axis=0), cmap=cmap,\n",
    "               interpolation='none', extent=[0,80,120,90])\n",
    "    custom_lines = [Line2D([0], [0], color=cmap(0.), lw=4),\n",
    "                    Line2D([0], [0], color=cmap(1.), lw=4)]\n",
    "    ax.legend(custom_lines, ['Cluster 0: Set', 'Cluster 1: Engage'], \n",
    "              loc=1, bbox_to_anchor=(1, 1.08))\n",
    "    #plt.savefig('viz/1v1s/optimal_technique_feat_2.png', dpi=500)"
   ]
  },
  {
   "cell_type": "code",
   "execution_count": 151,
   "metadata": {},
   "outputs": [],
   "source": [
    "train_df = pd.read_csv('ml/train_feat_2.csv')\n",
    "test_df = pd.read_csv('ml/test_feat_2.csv')"
   ]
  },
  {
   "cell_type": "code",
   "execution_count": 152,
   "metadata": {},
   "outputs": [],
   "source": [
    "train_df.drop('shot_first_time', axis=1, inplace=True)"
   ]
  },
  {
   "cell_type": "code",
   "execution_count": 153,
   "metadata": {},
   "outputs": [
    {
     "data": {
      "text/html": [
       "<div>\n",
       "<style scoped>\n",
       "    .dataframe tbody tr th:only-of-type {\n",
       "        vertical-align: middle;\n",
       "    }\n",
       "\n",
       "    .dataframe tbody tr th {\n",
       "        vertical-align: top;\n",
       "    }\n",
       "\n",
       "    .dataframe thead th {\n",
       "        text-align: right;\n",
       "    }\n",
       "</style>\n",
       "<table border=\"1\" class=\"dataframe\">\n",
       "  <thead>\n",
       "    <tr style=\"text-align: right;\">\n",
       "      <th></th>\n",
       "      <th>shot_outcome_name</th>\n",
       "      <th>shot_angle</th>\n",
       "      <th>distance_to_goal</th>\n",
       "      <th>under_pressure</th>\n",
       "      <th>cluster_0</th>\n",
       "      <th>cluster_1</th>\n",
       "    </tr>\n",
       "  </thead>\n",
       "  <tbody>\n",
       "    <tr>\n",
       "      <th>0</th>\n",
       "      <td>1</td>\n",
       "      <td>4.763642</td>\n",
       "      <td>12.041595</td>\n",
       "      <td>0</td>\n",
       "      <td>1</td>\n",
       "      <td>0</td>\n",
       "    </tr>\n",
       "    <tr>\n",
       "      <th>1</th>\n",
       "      <td>0</td>\n",
       "      <td>45.000000</td>\n",
       "      <td>8.485281</td>\n",
       "      <td>0</td>\n",
       "      <td>1</td>\n",
       "      <td>0</td>\n",
       "    </tr>\n",
       "    <tr>\n",
       "      <th>2</th>\n",
       "      <td>0</td>\n",
       "      <td>35.753887</td>\n",
       "      <td>15.402922</td>\n",
       "      <td>0</td>\n",
       "      <td>1</td>\n",
       "      <td>0</td>\n",
       "    </tr>\n",
       "    <tr>\n",
       "      <th>3</th>\n",
       "      <td>1</td>\n",
       "      <td>53.972627</td>\n",
       "      <td>13.601471</td>\n",
       "      <td>0</td>\n",
       "      <td>1</td>\n",
       "      <td>0</td>\n",
       "    </tr>\n",
       "    <tr>\n",
       "      <th>4</th>\n",
       "      <td>1</td>\n",
       "      <td>23.629378</td>\n",
       "      <td>17.464249</td>\n",
       "      <td>0</td>\n",
       "      <td>1</td>\n",
       "      <td>0</td>\n",
       "    </tr>\n",
       "  </tbody>\n",
       "</table>\n",
       "</div>"
      ],
      "text/plain": [
       "   shot_outcome_name  shot_angle  distance_to_goal  under_pressure  cluster_0  \\\n",
       "0                  1    4.763642         12.041595               0          1   \n",
       "1                  0   45.000000          8.485281               0          1   \n",
       "2                  0   35.753887         15.402922               0          1   \n",
       "3                  1   53.972627         13.601471               0          1   \n",
       "4                  1   23.629378         17.464249               0          1   \n",
       "\n",
       "   cluster_1  \n",
       "0          0  \n",
       "1          0  \n",
       "2          0  \n",
       "3          0  \n",
       "4          0  "
      ]
     },
     "execution_count": 153,
     "metadata": {},
     "output_type": "execute_result"
    }
   ],
   "source": [
    "train_df.head()"
   ]
  },
  {
   "cell_type": "code",
   "execution_count": 154,
   "metadata": {},
   "outputs": [
    {
     "data": {
      "text/html": [
       "<div>\n",
       "<style scoped>\n",
       "    .dataframe tbody tr th:only-of-type {\n",
       "        vertical-align: middle;\n",
       "    }\n",
       "\n",
       "    .dataframe tbody tr th {\n",
       "        vertical-align: top;\n",
       "    }\n",
       "\n",
       "    .dataframe thead th {\n",
       "        text-align: right;\n",
       "    }\n",
       "</style>\n",
       "<table border=\"1\" class=\"dataframe\">\n",
       "  <thead>\n",
       "    <tr style=\"text-align: right;\">\n",
       "      <th></th>\n",
       "      <th>shot_outcome_name</th>\n",
       "      <th>shot_angle</th>\n",
       "      <th>distance_to_goal</th>\n",
       "      <th>under_pressure</th>\n",
       "      <th>cluster_0</th>\n",
       "      <th>cluster_1</th>\n",
       "    </tr>\n",
       "  </thead>\n",
       "  <tbody>\n",
       "    <tr>\n",
       "      <th>count</th>\n",
       "      <td>250.000000</td>\n",
       "      <td>250.000000</td>\n",
       "      <td>250.000000</td>\n",
       "      <td>250.000000</td>\n",
       "      <td>250.000000</td>\n",
       "      <td>250.000000</td>\n",
       "    </tr>\n",
       "    <tr>\n",
       "      <th>mean</th>\n",
       "      <td>0.464000</td>\n",
       "      <td>39.152617</td>\n",
       "      <td>11.360844</td>\n",
       "      <td>0.164000</td>\n",
       "      <td>0.668000</td>\n",
       "      <td>0.332000</td>\n",
       "    </tr>\n",
       "    <tr>\n",
       "      <th>std</th>\n",
       "      <td>0.499703</td>\n",
       "      <td>20.220392</td>\n",
       "      <td>4.157132</td>\n",
       "      <td>0.371018</td>\n",
       "      <td>0.471876</td>\n",
       "      <td>0.471876</td>\n",
       "    </tr>\n",
       "    <tr>\n",
       "      <th>min</th>\n",
       "      <td>0.000000</td>\n",
       "      <td>0.000000</td>\n",
       "      <td>2.828427</td>\n",
       "      <td>0.000000</td>\n",
       "      <td>0.000000</td>\n",
       "      <td>0.000000</td>\n",
       "    </tr>\n",
       "    <tr>\n",
       "      <th>25%</th>\n",
       "      <td>0.000000</td>\n",
       "      <td>22.258402</td>\n",
       "      <td>8.544004</td>\n",
       "      <td>0.000000</td>\n",
       "      <td>0.000000</td>\n",
       "      <td>0.000000</td>\n",
       "    </tr>\n",
       "    <tr>\n",
       "      <th>50%</th>\n",
       "      <td>0.000000</td>\n",
       "      <td>41.185925</td>\n",
       "      <td>11.180340</td>\n",
       "      <td>0.000000</td>\n",
       "      <td>1.000000</td>\n",
       "      <td>0.000000</td>\n",
       "    </tr>\n",
       "    <tr>\n",
       "      <th>75%</th>\n",
       "      <td>1.000000</td>\n",
       "      <td>54.339898</td>\n",
       "      <td>14.212670</td>\n",
       "      <td>0.000000</td>\n",
       "      <td>1.000000</td>\n",
       "      <td>1.000000</td>\n",
       "    </tr>\n",
       "    <tr>\n",
       "      <th>max</th>\n",
       "      <td>1.000000</td>\n",
       "      <td>84.289407</td>\n",
       "      <td>23.345235</td>\n",
       "      <td>1.000000</td>\n",
       "      <td>1.000000</td>\n",
       "      <td>1.000000</td>\n",
       "    </tr>\n",
       "  </tbody>\n",
       "</table>\n",
       "</div>"
      ],
      "text/plain": [
       "       shot_outcome_name  shot_angle  distance_to_goal  under_pressure  \\\n",
       "count         250.000000  250.000000        250.000000      250.000000   \n",
       "mean            0.464000   39.152617         11.360844        0.164000   \n",
       "std             0.499703   20.220392          4.157132        0.371018   \n",
       "min             0.000000    0.000000          2.828427        0.000000   \n",
       "25%             0.000000   22.258402          8.544004        0.000000   \n",
       "50%             0.000000   41.185925         11.180340        0.000000   \n",
       "75%             1.000000   54.339898         14.212670        0.000000   \n",
       "max             1.000000   84.289407         23.345235        1.000000   \n",
       "\n",
       "        cluster_0   cluster_1  \n",
       "count  250.000000  250.000000  \n",
       "mean     0.668000    0.332000  \n",
       "std      0.471876    0.471876  \n",
       "min      0.000000    0.000000  \n",
       "25%      0.000000    0.000000  \n",
       "50%      1.000000    0.000000  \n",
       "75%      1.000000    1.000000  \n",
       "max      1.000000    1.000000  "
      ]
     },
     "execution_count": 154,
     "metadata": {},
     "output_type": "execute_result"
    }
   ],
   "source": [
    "train_df.describe()"
   ]
  },
  {
   "cell_type": "code",
   "execution_count": 155,
   "metadata": {},
   "outputs": [],
   "source": [
    "scaler = StandardScaler().fit(train_df[['shot_angle','distance_to_goal']])\n",
    "train_df[['shot_angle','distance_to_goal']] = scaler.transform(train_df[['shot_angle','distance_to_goal']])"
   ]
  },
  {
   "cell_type": "code",
   "execution_count": 156,
   "metadata": {},
   "outputs": [],
   "source": [
    "#Get training set X and y\n",
    "y = train_df.pop('shot_outcome_name')\n",
    "X = train_df.values\n",
    "X_train, X_val, y_train, y_val = train_test_split(X, y, test_size=0.2, random_state=42)"
   ]
  },
  {
   "cell_type": "markdown",
   "metadata": {},
   "source": [
    "### SVM"
   ]
  },
  {
   "cell_type": "code",
   "execution_count": 157,
   "metadata": {},
   "outputs": [
    {
     "data": {
      "text/plain": [
       "0.64"
      ]
     },
     "execution_count": 157,
     "metadata": {},
     "output_type": "execute_result"
    }
   ],
   "source": [
    "svm = SVC(C=1.0, kernel='rbf',probability=True).fit(X_train, y_train)\n",
    "val_accuracy(svm, X_val, y_val)"
   ]
  },
  {
   "cell_type": "markdown",
   "metadata": {},
   "source": [
    "### Logistic Regression"
   ]
  },
  {
   "cell_type": "code",
   "execution_count": 158,
   "metadata": {},
   "outputs": [
    {
     "data": {
      "text/plain": [
       "0.56"
      ]
     },
     "execution_count": 158,
     "metadata": {},
     "output_type": "execute_result"
    }
   ],
   "source": [
    "lr = LogisticRegression(penalty='none', random_state=0).fit(X_train, y_train)\n",
    "val_accuracy(lr, X_val, y_val)"
   ]
  },
  {
   "cell_type": "code",
   "execution_count": 159,
   "metadata": {},
   "outputs": [
    {
     "data": {
      "text/plain": [
       "0.66"
      ]
     },
     "execution_count": 159,
     "metadata": {},
     "output_type": "execute_result"
    }
   ],
   "source": [
    "rf = RandomForestClassifier(max_depth=2, random_state=0).fit(X_train, y_train)\n",
    "val_accuracy(rf, X_val, y_val)"
   ]
  },
  {
   "cell_type": "code",
   "execution_count": 160,
   "metadata": {},
   "outputs": [
    {
     "data": {
      "text/plain": [
       "0.62"
      ]
     },
     "execution_count": 160,
     "metadata": {},
     "output_type": "execute_result"
    }
   ],
   "source": [
    "nb = GaussianNB().fit(X_train, y_train)\n",
    "val_accuracy(nb, X_val, y_val)"
   ]
  },
  {
   "cell_type": "code",
   "execution_count": 164,
   "metadata": {},
   "outputs": [
    {
     "name": "stdout",
     "output_type": "stream",
     "text": [
      "done cluster 0\n",
      "done cluster 1\n"
     ]
    }
   ],
   "source": [
    "xs_map = getXSMap(train_df, svm, scaler, num_clusters=2, up=0)"
   ]
  },
  {
   "cell_type": "code",
   "execution_count": 169,
   "metadata": {},
   "outputs": [
    {
     "name": "stdout",
     "output_type": "stream",
     "text": [
      "done cluster 0\n",
      "done cluster 1\n"
     ]
    }
   ],
   "source": [
    "xs_map_up = getXSMap(train_df, svm, scaler, num_clusters=2, up=1)"
   ]
  },
  {
   "cell_type": "code",
   "execution_count": 200,
   "metadata": {},
   "outputs": [
    {
     "data": {
      "image/png": "[encoded data removed]",
      "text/plain": [
       "<Figure size 720x360 with 3 Axes>"
      ]
     },
     "metadata": {
      "needs_background": "light"
     },
     "output_type": "display_data"
    }
   ],
   "source": [
    "plotXSMap(xs_map, num_clusters=2, cluster_names=['Set', 'Engage'], save='feat_2_xsmap')"
   ]
  },
  {
   "cell_type": "code",
   "execution_count": 201,
   "metadata": {},
   "outputs": [
    {
     "data": {
      "image/png": "[encoded data removed]",
      "text/plain": [
       "<Figure size 720x360 with 3 Axes>"
      ]
     },
     "metadata": {
      "needs_background": "light"
     },
     "output_type": "display_data"
    }
   ],
   "source": [
    "plotXSMap(xs_map_up, num_clusters=2, cluster_names=['Set', 'Engage'], save='feat_2_xsmap_up')"
   ]
  },
  {
   "cell_type": "code",
   "execution_count": 9,
   "metadata": {},
   "outputs": [],
   "source": [
    "def plotBestTechniqueUp(xs_map, xs_map_up, save='test'):\n",
    "    #Best technique to use\n",
    "    pitch = VerticalPitch(half=True, goal_type='box', pad_bottom=-30, \n",
    "                          pad_left=-10, pad_right=-10, line_color='black',\n",
    "                          orientation='horizontal')\n",
    "    fig, ax = pitch.draw(figsize=(10,5), nrows=1, ncols=2)\n",
    "    cmap = plt.cm.tab20\n",
    "    im = ax[0].imshow(np.argmax(xs_map, axis=0), cmap=cmap,\n",
    "                      interpolation='none', extent=[0,80,120,90])\n",
    "    im = ax[1].imshow(np.argmax(xs_map_up, axis=0), cmap=cmap,\n",
    "                      interpolation='none', extent=[0,80,120,90])\n",
    "    ax[0].set_title('Striker Not Under Pressure')\n",
    "    ax[1].set_title('Striker Under Pressure')\n",
    "    custom_lines = [Line2D([0], [0], color=cmap(0.), lw=4),\n",
    "                    Line2D([0], [0], color=cmap(1.), lw=4)]\n",
    "    ax[1].legend(custom_lines, ['Cluster 0: Set', 'Cluster 1: Engage'], \n",
    "              loc=1, bbox_to_anchor=(1, 0.22))\n",
    "    if save != 'test':\n",
    "        plt.savefig('viz/1v1s/' + save + '.png', dpi=500, bbox_inches='tight')"
   ]
  },
  {
   "cell_type": "code",
   "execution_count": 198,
   "metadata": {},
   "outputs": [
    {
     "data": {
      "image/png": "[encoded data removed]",
      "text/plain": [
       "<Figure size 720x360 with 2 Axes>"
      ]
     },
     "metadata": {},
     "output_type": "display_data"
    }
   ],
   "source": [
    "plotBestTechniqueUp(xs_map, xs_map_up, save='optimal_technique_feat_2')"
   ]
  },
  {
   "cell_type": "code",
   "execution_count": 173,
   "metadata": {},
   "outputs": [
    {
     "data": {
      "image/png": "[encoded data removed]",
      "text/plain": [
       "<Figure size 432x288 with 1 Axes>"
      ]
     },
     "metadata": {},
     "output_type": "display_data"
    }
   ],
   "source": [
    "plotBestTechnique(xs_map_up)"
   ]
  },
  {
   "cell_type": "markdown",
   "metadata": {},
   "source": [
    "## Alternative Method: Features, k=2"
   ]
  },
  {
   "cell_type": "code",
   "execution_count": 57,
   "metadata": {},
   "outputs": [],
   "source": [
    "df = importMLData(clusters_name = 'kmeans_feat_k2')"
   ]
  },
  {
   "cell_type": "code",
   "execution_count": 58,
   "metadata": {},
   "outputs": [
    {
     "data": {
      "text/html": [
       "<div>\n",
       "<style scoped>\n",
       "    .dataframe tbody tr th:only-of-type {\n",
       "        vertical-align: middle;\n",
       "    }\n",
       "\n",
       "    .dataframe tbody tr th {\n",
       "        vertical-align: top;\n",
       "    }\n",
       "\n",
       "    .dataframe thead th {\n",
       "        text-align: right;\n",
       "    }\n",
       "</style>\n",
       "<table border=\"1\" class=\"dataframe\">\n",
       "  <thead>\n",
       "    <tr style=\"text-align: right;\">\n",
       "      <th></th>\n",
       "      <th>file</th>\n",
       "      <th>photo_id</th>\n",
       "      <th>duration</th>\n",
       "      <th>play_pattern_name</th>\n",
       "      <th>under_pressure</th>\n",
       "      <th>shot_outcome_name</th>\n",
       "      <th>shot_first_time</th>\n",
       "      <th>distance_to_goal</th>\n",
       "      <th>shot_angle</th>\n",
       "      <th>gk_name</th>\n",
       "      <th>gk_engage</th>\n",
       "      <th>assist_type</th>\n",
       "      <th>cluster</th>\n",
       "    </tr>\n",
       "  </thead>\n",
       "  <tbody>\n",
       "    <tr>\n",
       "      <th>0</th>\n",
       "      <td>382-2.png</td>\n",
       "      <td>382</td>\n",
       "      <td>0.186800</td>\n",
       "      <td>From Free Kick</td>\n",
       "      <td>0</td>\n",
       "      <td>Saved</td>\n",
       "      <td>0</td>\n",
       "      <td>7.280110</td>\n",
       "      <td>74.054604</td>\n",
       "      <td>Jonas Lössl</td>\n",
       "      <td>0.566352</td>\n",
       "      <td>Other</td>\n",
       "      <td>1</td>\n",
       "    </tr>\n",
       "    <tr>\n",
       "      <th>1</th>\n",
       "      <td>537-2.png</td>\n",
       "      <td>537</td>\n",
       "      <td>0.771300</td>\n",
       "      <td>From Throw In</td>\n",
       "      <td>0</td>\n",
       "      <td>Goal</td>\n",
       "      <td>0</td>\n",
       "      <td>11.313708</td>\n",
       "      <td>45.000000</td>\n",
       "      <td>Mathew Ryan</td>\n",
       "      <td>1.000000</td>\n",
       "      <td>Pass</td>\n",
       "      <td>0</td>\n",
       "    </tr>\n",
       "    <tr>\n",
       "      <th>2</th>\n",
       "      <td>476-2.png</td>\n",
       "      <td>476</td>\n",
       "      <td>0.714875</td>\n",
       "      <td>Regular Play</td>\n",
       "      <td>0</td>\n",
       "      <td>Saved</td>\n",
       "      <td>0</td>\n",
       "      <td>12.041595</td>\n",
       "      <td>4.763642</td>\n",
       "      <td>Tom Heaton</td>\n",
       "      <td>0.332182</td>\n",
       "      <td>Pass</td>\n",
       "      <td>0</td>\n",
       "    </tr>\n",
       "    <tr>\n",
       "      <th>3</th>\n",
       "      <td>63.png</td>\n",
       "      <td>63</td>\n",
       "      <td>0.533000</td>\n",
       "      <td>From Free Kick</td>\n",
       "      <td>0</td>\n",
       "      <td>Goal</td>\n",
       "      <td>1</td>\n",
       "      <td>8.485281</td>\n",
       "      <td>45.000000</td>\n",
       "      <td>Eiji Kawashima</td>\n",
       "      <td>0.687184</td>\n",
       "      <td>Pass</td>\n",
       "      <td>0</td>\n",
       "    </tr>\n",
       "    <tr>\n",
       "      <th>4</th>\n",
       "      <td>88.png</td>\n",
       "      <td>88</td>\n",
       "      <td>0.960000</td>\n",
       "      <td>Regular Play</td>\n",
       "      <td>1</td>\n",
       "      <td>Off T</td>\n",
       "      <td>0</td>\n",
       "      <td>20.248457</td>\n",
       "      <td>57.094757</td>\n",
       "      <td>Hugo Lloris</td>\n",
       "      <td>0.931822</td>\n",
       "      <td>Pass</td>\n",
       "      <td>0</td>\n",
       "    </tr>\n",
       "  </tbody>\n",
       "</table>\n",
       "</div>"
      ],
      "text/plain": [
       "        file  photo_id  duration play_pattern_name  under_pressure  \\\n",
       "0  382-2.png       382  0.186800    From Free Kick               0   \n",
       "1  537-2.png       537  0.771300     From Throw In               0   \n",
       "2  476-2.png       476  0.714875      Regular Play               0   \n",
       "3     63.png        63  0.533000    From Free Kick               0   \n",
       "4     88.png        88  0.960000      Regular Play               1   \n",
       "\n",
       "  shot_outcome_name  shot_first_time  distance_to_goal  shot_angle  \\\n",
       "0             Saved                0          7.280110   74.054604   \n",
       "1              Goal                0         11.313708   45.000000   \n",
       "2             Saved                0         12.041595    4.763642   \n",
       "3              Goal                1          8.485281   45.000000   \n",
       "4             Off T                0         20.248457   57.094757   \n",
       "\n",
       "          gk_name  gk_engage assist_type  cluster  \n",
       "0     Jonas Lössl   0.566352       Other        1  \n",
       "1     Mathew Ryan   1.000000        Pass        0  \n",
       "2      Tom Heaton   0.332182        Pass        0  \n",
       "3  Eiji Kawashima   0.687184        Pass        0  \n",
       "4     Hugo Lloris   0.931822        Pass        0  "
      ]
     },
     "execution_count": 58,
     "metadata": {},
     "output_type": "execute_result"
    }
   ],
   "source": [
    "df.head()"
   ]
  },
  {
   "cell_type": "code",
   "execution_count": 86,
   "metadata": {},
   "outputs": [],
   "source": [
    "train_df, test_df = getTrainTest(df)"
   ]
  },
  {
   "cell_type": "code",
   "execution_count": 87,
   "metadata": {},
   "outputs": [],
   "source": [
    "train_df.drop('photo_id', axis=1, inplace=True)"
   ]
  },
  {
   "cell_type": "code",
   "execution_count": 89,
   "metadata": {},
   "outputs": [],
   "source": [
    "scaler = StandardScaler().fit(train_df[['shot_angle','distance_to_goal']])\n",
    "train_df[['shot_angle','distance_to_goal']] = scaler.transform(train_df[['shot_angle','distance_to_goal']])"
   ]
  },
  {
   "cell_type": "code",
   "execution_count": 90,
   "metadata": {},
   "outputs": [],
   "source": [
    "#Get training set X and y\n",
    "y = train_df.pop('shot_outcome_name')\n",
    "X = train_df.values\n",
    "X_train, X_val, y_train, y_val = train_test_split(X, y, test_size=0.2, random_state=42)"
   ]
  },
  {
   "cell_type": "code",
   "execution_count": 91,
   "metadata": {},
   "outputs": [
    {
     "data": {
      "text/plain": [
       "0.6470588235294118"
      ]
     },
     "execution_count": 91,
     "metadata": {},
     "output_type": "execute_result"
    }
   ],
   "source": [
    "svm = SVC(C=1.0, kernel='rbf',probability=True).fit(X_train, y_train)\n",
    "val_accuracy(svm, X_val, y_val)"
   ]
  },
  {
   "cell_type": "code",
   "execution_count": 92,
   "metadata": {},
   "outputs": [
    {
     "name": "stdout",
     "output_type": "stream",
     "text": [
      "done cluster 0\n",
      "done cluster 1\n"
     ]
    }
   ],
   "source": [
    "xs_map = getXSMap(train_df, svm, scaler, num_clusters=2, up=0)"
   ]
  },
  {
   "cell_type": "code",
   "execution_count": 93,
   "metadata": {},
   "outputs": [
    {
     "name": "stdout",
     "output_type": "stream",
     "text": [
      "done cluster 0\n",
      "done cluster 1\n"
     ]
    }
   ],
   "source": [
    "xs_map_up = getXSMap(train_df, svm, scaler, num_clusters=2, up=1)"
   ]
  },
  {
   "cell_type": "code",
   "execution_count": 94,
   "metadata": {},
   "outputs": [
    {
     "data": {
      "image/png": "[encoded data removed]",
      "text/plain": [
       "<Figure size 720x360 with 3 Axes>"
      ]
     },
     "metadata": {
      "needs_background": "light"
     },
     "output_type": "display_data"
    }
   ],
   "source": [
    "plotXSMap(xs_map, num_clusters=2, cluster_names=['Set', 'Engage'], save='test')"
   ]
  },
  {
   "cell_type": "code",
   "execution_count": 95,
   "metadata": {},
   "outputs": [
    {
     "data": {
      "image/png": "[encoded data removed]",
      "text/plain": [
       "<Figure size 720x360 with 3 Axes>"
      ]
     },
     "metadata": {
      "needs_background": "light"
     },
     "output_type": "display_data"
    }
   ],
   "source": [
    "plotXSMap(xs_map_up, num_clusters=2, cluster_names=['Set', 'Engage'], save='test')"
   ]
  },
  {
   "cell_type": "code",
   "execution_count": 96,
   "metadata": {},
   "outputs": [
    {
     "data": {
      "image/png": "[encoded data removed]",
      "text/plain": [
       "<Figure size 720x360 with 2 Axes>"
      ]
     },
     "metadata": {},
     "output_type": "display_data"
    }
   ],
   "source": [
    "plotBestTechniqueUp(xs_map, xs_map_up, save='test')"
   ]
  },
  {
   "cell_type": "markdown",
   "metadata": {},
   "source": [
    "### Find instances where keeper made bad decision"
   ]
  },
  {
   "cell_type": "code",
   "execution_count": 99,
   "metadata": {},
   "outputs": [],
   "source": [
    "test_df = test_df.reset_index(drop=True)"
   ]
  },
  {
   "cell_type": "code",
   "execution_count": 127,
   "metadata": {},
   "outputs": [
    {
     "data": {
      "text/html": [
       "<div>\n",
       "<style scoped>\n",
       "    .dataframe tbody tr th:only-of-type {\n",
       "        vertical-align: middle;\n",
       "    }\n",
       "\n",
       "    .dataframe tbody tr th {\n",
       "        vertical-align: top;\n",
       "    }\n",
       "\n",
       "    .dataframe thead th {\n",
       "        text-align: right;\n",
       "    }\n",
       "</style>\n",
       "<table border=\"1\" class=\"dataframe\">\n",
       "  <thead>\n",
       "    <tr style=\"text-align: right;\">\n",
       "      <th></th>\n",
       "      <th>cluster_0</th>\n",
       "      <th>cluster_1</th>\n",
       "    </tr>\n",
       "  </thead>\n",
       "  <tbody>\n",
       "    <tr>\n",
       "      <th>0</th>\n",
       "      <td>0</td>\n",
       "      <td>1</td>\n",
       "    </tr>\n",
       "    <tr>\n",
       "      <th>1</th>\n",
       "      <td>0</td>\n",
       "      <td>1</td>\n",
       "    </tr>\n",
       "    <tr>\n",
       "      <th>2</th>\n",
       "      <td>1</td>\n",
       "      <td>0</td>\n",
       "    </tr>\n",
       "    <tr>\n",
       "      <th>3</th>\n",
       "      <td>1</td>\n",
       "      <td>0</td>\n",
       "    </tr>\n",
       "    <tr>\n",
       "      <th>4</th>\n",
       "      <td>1</td>\n",
       "      <td>0</td>\n",
       "    </tr>\n",
       "    <tr>\n",
       "      <th>...</th>\n",
       "      <td>...</td>\n",
       "      <td>...</td>\n",
       "    </tr>\n",
       "    <tr>\n",
       "      <th>56</th>\n",
       "      <td>1</td>\n",
       "      <td>0</td>\n",
       "    </tr>\n",
       "    <tr>\n",
       "      <th>57</th>\n",
       "      <td>1</td>\n",
       "      <td>0</td>\n",
       "    </tr>\n",
       "    <tr>\n",
       "      <th>58</th>\n",
       "      <td>0</td>\n",
       "      <td>1</td>\n",
       "    </tr>\n",
       "    <tr>\n",
       "      <th>59</th>\n",
       "      <td>1</td>\n",
       "      <td>0</td>\n",
       "    </tr>\n",
       "    <tr>\n",
       "      <th>60</th>\n",
       "      <td>1</td>\n",
       "      <td>0</td>\n",
       "    </tr>\n",
       "  </tbody>\n",
       "</table>\n",
       "<p>61 rows × 2 columns</p>\n",
       "</div>"
      ],
      "text/plain": [
       "    cluster_0  cluster_1\n",
       "0           0          1\n",
       "1           0          1\n",
       "2           1          0\n",
       "3           1          0\n",
       "4           1          0\n",
       "..        ...        ...\n",
       "56          1          0\n",
       "57          1          0\n",
       "58          0          1\n",
       "59          1          0\n",
       "60          1          0\n",
       "\n",
       "[61 rows x 2 columns]"
      ]
     },
     "execution_count": 127,
     "metadata": {},
     "output_type": "execute_result"
    }
   ],
   "source": [
    "test_df.filter(regex='cluster_')"
   ]
  },
  {
   "cell_type": "code",
   "execution_count": 131,
   "metadata": {},
   "outputs": [],
   "source": [
    "test_df['chosen_cluster'] = np.argmax(test_df.filter(regex='cluster_').values, axis=1)"
   ]
  },
  {
   "cell_type": "code",
   "execution_count": 116,
   "metadata": {},
   "outputs": [],
   "source": [
    "optimal_cluster = []\n",
    "num_clusters = 2\n",
    "for i in range(len(test_df)):\n",
    "    angle = test_df.loc[i, 'shot_angle']\n",
    "    dist = test_df.loc[i, 'distance_to_goal']\n",
    "    up = test_df.loc[i, 'under_pressure']\n",
    "    xs_list = []\n",
    "    for cluster in range(num_clusters):\n",
    "        inp = getxSInput(df, scaler, angle=angle, dist=dist, up=up, cluster=cluster)\n",
    "        xs_list.append(svm.predict_proba(inp)[0][1])\n",
    "    optimal_cluster.append(np.argmax(xs_list))"
   ]
  },
  {
   "cell_type": "code",
   "execution_count": 123,
   "metadata": {},
   "outputs": [],
   "source": [
    "test_df['optimal_cluster'] = optimal_cluster"
   ]
  },
  {
   "cell_type": "code",
   "execution_count": 137,
   "metadata": {},
   "outputs": [
    {
     "name": "stdout",
     "output_type": "stream",
     "text": [
      "34\n",
      "61\n"
     ]
    }
   ],
   "source": [
    "#Number of correctly chosen save technique by the goalkeeper\n",
    "print(np.sum(test_df['optimal_cluster'] == test_df['chosen_cluster']))\n",
    "print(len(test_df))"
   ]
  },
  {
   "cell_type": "code",
   "execution_count": 140,
   "metadata": {},
   "outputs": [],
   "source": [
    "#Wrong Save Choices\n",
    "wrong_choices = test_df.loc[test_df['optimal_cluster'] != test_df['chosen_cluster']][['photo_id','optimal_cluster','chosen_cluster']]"
   ]
  },
  {
   "cell_type": "code",
   "execution_count": 141,
   "metadata": {},
   "outputs": [
    {
     "data": {
      "text/html": [
       "<div>\n",
       "<style scoped>\n",
       "    .dataframe tbody tr th:only-of-type {\n",
       "        vertical-align: middle;\n",
       "    }\n",
       "\n",
       "    .dataframe tbody tr th {\n",
       "        vertical-align: top;\n",
       "    }\n",
       "\n",
       "    .dataframe thead th {\n",
       "        text-align: right;\n",
       "    }\n",
       "</style>\n",
       "<table border=\"1\" class=\"dataframe\">\n",
       "  <thead>\n",
       "    <tr style=\"text-align: right;\">\n",
       "      <th></th>\n",
       "      <th>photo_id</th>\n",
       "      <th>optimal_cluster</th>\n",
       "      <th>chosen_cluster</th>\n",
       "    </tr>\n",
       "  </thead>\n",
       "  <tbody>\n",
       "    <tr>\n",
       "      <th>0</th>\n",
       "      <td>409</td>\n",
       "      <td>0</td>\n",
       "      <td>1</td>\n",
       "    </tr>\n",
       "    <tr>\n",
       "      <th>2</th>\n",
       "      <td>476</td>\n",
       "      <td>1</td>\n",
       "      <td>0</td>\n",
       "    </tr>\n",
       "    <tr>\n",
       "      <th>3</th>\n",
       "      <td>390</td>\n",
       "      <td>1</td>\n",
       "      <td>0</td>\n",
       "    </tr>\n",
       "    <tr>\n",
       "      <th>4</th>\n",
       "      <td>497</td>\n",
       "      <td>1</td>\n",
       "      <td>0</td>\n",
       "    </tr>\n",
       "    <tr>\n",
       "      <th>7</th>\n",
       "      <td>463</td>\n",
       "      <td>1</td>\n",
       "      <td>0</td>\n",
       "    </tr>\n",
       "    <tr>\n",
       "      <th>9</th>\n",
       "      <td>63</td>\n",
       "      <td>1</td>\n",
       "      <td>0</td>\n",
       "    </tr>\n",
       "    <tr>\n",
       "      <th>11</th>\n",
       "      <td>9</td>\n",
       "      <td>1</td>\n",
       "      <td>0</td>\n",
       "    </tr>\n",
       "    <tr>\n",
       "      <th>12</th>\n",
       "      <td>136</td>\n",
       "      <td>1</td>\n",
       "      <td>0</td>\n",
       "    </tr>\n",
       "    <tr>\n",
       "      <th>13</th>\n",
       "      <td>240</td>\n",
       "      <td>1</td>\n",
       "      <td>0</td>\n",
       "    </tr>\n",
       "    <tr>\n",
       "      <th>16</th>\n",
       "      <td>182</td>\n",
       "      <td>1</td>\n",
       "      <td>0</td>\n",
       "    </tr>\n",
       "    <tr>\n",
       "      <th>17</th>\n",
       "      <td>232</td>\n",
       "      <td>1</td>\n",
       "      <td>0</td>\n",
       "    </tr>\n",
       "    <tr>\n",
       "      <th>18</th>\n",
       "      <td>385</td>\n",
       "      <td>1</td>\n",
       "      <td>0</td>\n",
       "    </tr>\n",
       "    <tr>\n",
       "      <th>20</th>\n",
       "      <td>167</td>\n",
       "      <td>1</td>\n",
       "      <td>0</td>\n",
       "    </tr>\n",
       "    <tr>\n",
       "      <th>22</th>\n",
       "      <td>222</td>\n",
       "      <td>1</td>\n",
       "      <td>0</td>\n",
       "    </tr>\n",
       "    <tr>\n",
       "      <th>25</th>\n",
       "      <td>324</td>\n",
       "      <td>1</td>\n",
       "      <td>0</td>\n",
       "    </tr>\n",
       "    <tr>\n",
       "      <th>28</th>\n",
       "      <td>254</td>\n",
       "      <td>0</td>\n",
       "      <td>1</td>\n",
       "    </tr>\n",
       "    <tr>\n",
       "      <th>30</th>\n",
       "      <td>440</td>\n",
       "      <td>0</td>\n",
       "      <td>1</td>\n",
       "    </tr>\n",
       "    <tr>\n",
       "      <th>33</th>\n",
       "      <td>421</td>\n",
       "      <td>0</td>\n",
       "      <td>1</td>\n",
       "    </tr>\n",
       "    <tr>\n",
       "      <th>35</th>\n",
       "      <td>434</td>\n",
       "      <td>1</td>\n",
       "      <td>0</td>\n",
       "    </tr>\n",
       "    <tr>\n",
       "      <th>40</th>\n",
       "      <td>236</td>\n",
       "      <td>0</td>\n",
       "      <td>1</td>\n",
       "    </tr>\n",
       "    <tr>\n",
       "      <th>42</th>\n",
       "      <td>92</td>\n",
       "      <td>1</td>\n",
       "      <td>0</td>\n",
       "    </tr>\n",
       "    <tr>\n",
       "      <th>47</th>\n",
       "      <td>463</td>\n",
       "      <td>1</td>\n",
       "      <td>0</td>\n",
       "    </tr>\n",
       "    <tr>\n",
       "      <th>49</th>\n",
       "      <td>441</td>\n",
       "      <td>0</td>\n",
       "      <td>1</td>\n",
       "    </tr>\n",
       "    <tr>\n",
       "      <th>52</th>\n",
       "      <td>3</td>\n",
       "      <td>1</td>\n",
       "      <td>0</td>\n",
       "    </tr>\n",
       "    <tr>\n",
       "      <th>53</th>\n",
       "      <td>497</td>\n",
       "      <td>1</td>\n",
       "      <td>0</td>\n",
       "    </tr>\n",
       "    <tr>\n",
       "      <th>56</th>\n",
       "      <td>463</td>\n",
       "      <td>1</td>\n",
       "      <td>0</td>\n",
       "    </tr>\n",
       "    <tr>\n",
       "      <th>57</th>\n",
       "      <td>393</td>\n",
       "      <td>1</td>\n",
       "      <td>0</td>\n",
       "    </tr>\n",
       "  </tbody>\n",
       "</table>\n",
       "</div>"
      ],
      "text/plain": [
       "    photo_id  optimal_cluster  chosen_cluster\n",
       "0        409                0               1\n",
       "2        476                1               0\n",
       "3        390                1               0\n",
       "4        497                1               0\n",
       "7        463                1               0\n",
       "9         63                1               0\n",
       "11         9                1               0\n",
       "12       136                1               0\n",
       "13       240                1               0\n",
       "16       182                1               0\n",
       "17       232                1               0\n",
       "18       385                1               0\n",
       "20       167                1               0\n",
       "22       222                1               0\n",
       "25       324                1               0\n",
       "28       254                0               1\n",
       "30       440                0               1\n",
       "33       421                0               1\n",
       "35       434                1               0\n",
       "40       236                0               1\n",
       "42        92                1               0\n",
       "47       463                1               0\n",
       "49       441                0               1\n",
       "52         3                1               0\n",
       "53       497                1               0\n",
       "56       463                1               0\n",
       "57       393                1               0"
      ]
     },
     "execution_count": 141,
     "metadata": {},
     "output_type": "execute_result"
    }
   ],
   "source": [
    "wrong_choices"
   ]
  },
  {
   "cell_type": "code",
   "execution_count": 142,
   "metadata": {},
   "outputs": [],
   "source": [
    "wrong_choices.to_csv('wrong_save_choice_k2.csv', index=False)"
   ]
  },
  {
   "cell_type": "markdown",
   "metadata": {},
   "source": [
    "## 2d Poses: 4 Clusters"
   ]
  },
  {
   "cell_type": "code",
   "execution_count": 36,
   "metadata": {},
   "outputs": [],
   "source": [
    "df = importMLData(clusters_name = 'kmeans_2d_k4')"
   ]
  },
  {
   "cell_type": "code",
   "execution_count": 37,
   "metadata": {},
   "outputs": [],
   "source": [
    "train_df, test_df = getTrainTest(df)"
   ]
  },
  {
   "cell_type": "code",
   "execution_count": 38,
   "metadata": {},
   "outputs": [],
   "source": [
    "train_df.drop('photo_id', axis=1, inplace=True)"
   ]
  },
  {
   "cell_type": "code",
   "execution_count": 39,
   "metadata": {},
   "outputs": [],
   "source": [
    "scaler = StandardScaler().fit(train_df[['shot_angle','distance_to_goal']])\n",
    "train_df[['shot_angle','distance_to_goal']] = scaler.transform(train_df[['shot_angle','distance_to_goal']])"
   ]
  },
  {
   "cell_type": "code",
   "execution_count": 40,
   "metadata": {},
   "outputs": [],
   "source": [
    "#Get training set X and y\n",
    "y = train_df.pop('shot_outcome_name')\n",
    "X = train_df.values\n",
    "X_train, X_val, y_train, y_val = train_test_split(X, y, test_size=0.2, random_state=42)"
   ]
  },
  {
   "cell_type": "code",
   "execution_count": 41,
   "metadata": {},
   "outputs": [
    {
     "data": {
      "text/plain": [
       "0.72"
      ]
     },
     "execution_count": 41,
     "metadata": {},
     "output_type": "execute_result"
    }
   ],
   "source": [
    "svm = SVC(C=1.0, kernel='rbf',probability=True).fit(X_train, y_train)\n",
    "val_accuracy(svm, X_val, y_val)"
   ]
  },
  {
   "cell_type": "code",
   "execution_count": 42,
   "metadata": {},
   "outputs": [
    {
     "name": "stdout",
     "output_type": "stream",
     "text": [
      "done cluster 0\n",
      "done cluster 1\n",
      "done cluster 2\n",
      "done cluster 3\n"
     ]
    }
   ],
   "source": [
    "xs_map = getXSMap(train_df, svm, scaler, num_clusters=4, up=0)"
   ]
  },
  {
   "cell_type": "code",
   "execution_count": 43,
   "metadata": {},
   "outputs": [
    {
     "name": "stdout",
     "output_type": "stream",
     "text": [
      "done cluster 0\n",
      "done cluster 1\n",
      "done cluster 2\n",
      "done cluster 3\n"
     ]
    }
   ],
   "source": [
    "xs_map_up = getXSMap(train_df, svm, scaler, num_clusters=4, up=1)"
   ]
  },
  {
   "cell_type": "code",
   "execution_count": 48,
   "metadata": {},
   "outputs": [
    {
     "data": {
      "image/png": "[encoded data removed]",
      "text/plain": [
       "<Figure size 720x360 with 5 Axes>"
      ]
     },
     "metadata": {
      "needs_background": "light"
     },
     "output_type": "display_data"
    }
   ],
   "source": [
    "plotXSMap(xs_map, num_clusters=4, cluster_names=['Spread','Passive Set','Aggressive Set','Smother'], save='2d_4_xsmap')"
   ]
  },
  {
   "cell_type": "code",
   "execution_count": 49,
   "metadata": {},
   "outputs": [
    {
     "data": {
      "image/png": "[encoded data removed]",
      "text/plain": [
       "<Figure size 720x360 with 5 Axes>"
      ]
     },
     "metadata": {
      "needs_background": "light"
     },
     "output_type": "display_data"
    }
   ],
   "source": [
    "plotXSMap(xs_map_up, num_clusters=4, cluster_names=['Spread','Passive Set','Aggressive Set','Smother'], save='2d_4_xsmap_up')"
   ]
  },
  {
   "cell_type": "code",
   "execution_count": 46,
   "metadata": {},
   "outputs": [],
   "source": [
    "def plotBestTechniqueUp(xs_map, xs_map_up, save='test'):\n",
    "    #Best technique to use\n",
    "    pitch = VerticalPitch(half=True, goal_type='box', pad_bottom=-30, \n",
    "                          pad_left=-10, pad_right=-10, line_color='black',\n",
    "                          orientation='horizontal')\n",
    "    fig, ax = pitch.draw(figsize=(10,5), nrows=1, ncols=2)\n",
    "    cmap = plt.cm.tab20\n",
    "    im = ax[0].imshow(np.argmax(xs_map, axis=0), cmap=cmap,\n",
    "                      interpolation='none', extent=[0,80,120,90])\n",
    "    im = ax[1].imshow(np.argmax(xs_map_up, axis=0), cmap=cmap,\n",
    "                      interpolation='none', extent=[0,80,120,90])\n",
    "    ax[0].set_title('Striker Not Under Pressure')\n",
    "    ax[1].set_title('Striker Under Pressure')\n",
    "    custom_lines = [Line2D([0], [0], color=cmap(0.), lw=4),\n",
    "                    Line2D([0], [0], color=cmap(0.33), lw=4),\n",
    "                    Line2D([0], [0], color=cmap(0.66), lw=4),\n",
    "                    Line2D([0], [0], color=cmap(1.), lw=4)]\n",
    "    ax[1].legend(custom_lines, ['Cluster 0: Spread', 'Cluster 1: Passive Set','Cluster 2: Aggressive Set','Cluster 3: Smother'], \n",
    "              loc=1, bbox_to_anchor=(1, 0.38))\n",
    "    if save != 'test':\n",
    "        plt.savefig('viz/1v1s/' + save + '.png', dpi=500, bbox_inches='tight')"
   ]
  },
  {
   "cell_type": "code",
   "execution_count": 50,
   "metadata": {},
   "outputs": [
    {
     "data": {
      "image/png": "[encoded data removed]",
      "text/plain": [
       "<Figure size 720x360 with 2 Axes>"
      ]
     },
     "metadata": {},
     "output_type": "display_data"
    }
   ],
   "source": [
    "plotBestTechniqueUp(xs_map, xs_map_up, save='optimal_technique_2d_4')"
   ]
  },
  {
   "cell_type": "code",
   "execution_count": null,
   "metadata": {},
   "outputs": [],
   "source": []
  },
  {
   "cell_type": "code",
   "execution_count": null,
   "metadata": {},
   "outputs": [],
   "source": []
  },
  {
   "cell_type": "code",
   "execution_count": null,
   "metadata": {},
   "outputs": [],
   "source": []
  }
 ],
 "metadata": {
  "kernelspec": {
   "display_name": "Python 3",
   "language": "python",
   "name": "python3"
  },
  "language_info": {
   "codemirror_mode": {
    "name": "ipython",
    "version": 3
   },
   "file_extension": ".py",
   "mimetype": "text/x-python",
   "name": "python",
   "nbconvert_exporter": "python",
   "pygments_lexer": "ipython3",
   "version": "3.7.4"
  }
 },
 "nbformat": 4,
 "nbformat_minor": 2
}
