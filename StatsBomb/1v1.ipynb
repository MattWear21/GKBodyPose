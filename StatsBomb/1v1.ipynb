{
 "cells": [
  {
   "cell_type": "code",
   "execution_count": 54,
   "metadata": {},
   "outputs": [],
   "source": [
    "import numpy as np\n",
    "import json\n",
    "import pandas as pd\n",
    "from os import listdir\n",
    "import matplotlib.pyplot as plt\n",
    "from FCPython import createPitch\n",
    "from FCPython import createGoalMouth\n",
    "from mplsoccer import VerticalPitch\n",
    "import sys\n",
    "import ast"
   ]
  },
  {
   "cell_type": "code",
   "execution_count": 2,
   "metadata": {},
   "outputs": [],
   "source": [
    "def importSBMatches(file_name, path='data/matches/2/'):\n",
    "    with open(path+file_name) as data_file:\n",
    "        #print (mypath+'events/'+file)\n",
    "        data = json.load(data_file)\n",
    "    \n",
    "    #get the nested structure into a dataframe \n",
    "    #store the dataframe in a dictionary with the match id as key (remove '.json' from string)\n",
    "    df = pd.json_normalize(data, sep = \"_\")\n",
    "    return df\n",
    "\n",
    "def getShots(events):\n",
    "    #Get penalties from event data, keeping only useful columns\n",
    "    shots = events.loc[events['type_name'] == 'Shot'].set_index('id')\n",
    "    keep_cols = ['match_id','minute','team_id','team_name','player_id','player_name',\n",
    "             'shot_body_part_name','shot_technique_name','shot_outcome_name']\n",
    "    return pens[keep_cols]\n",
    "\n",
    "def importSBjson(file_name, path='data/events/'):\n",
    "    with open(path+file_name) as data_file:\n",
    "        #print (mypath+'events/'+file)\n",
    "        data = json.load(data_file)\n",
    "    \n",
    "    #get the nested structure into a dataframe \n",
    "    #store the dataframe in a dictionary with the match id as key (remove '.json' from string)\n",
    "    df = pd.json_normalize(data, sep = \"_\").assign(match_id = file_name[:-5])\n",
    "    return df"
   ]
  },
  {
   "cell_type": "code",
   "execution_count": 3,
   "metadata": {},
   "outputs": [],
   "source": [
    "# A utility function to calculate area of triangle formed by (x1, y1),\n",
    "# (x2, y2) and (x3, y3)\n",
    "def area(x1, y1, x2, y2, x3, y3):\n",
    "    return abs((x1 * (y2 - y3) + x2 * (y3 - y1) + x3 * (y1 - y2)) / 2.0)\n",
    "\n",
    "# A function to check whether point P(x, y) lies inside the triangle formed by\n",
    "# A(x1, y1), B(x2, y2) and C(x3, y3)\n",
    "def isInside(x1, y1, x2, y2, x3, y3, x, y):\n",
    "    # Calculate area of triangle ABC\n",
    "    A = area (x1, y1, x2, y2, x3, y3)\n",
    " \n",
    "    # Calculate area of triangle PBC\n",
    "    A1 = area (x, y, x2, y2, x3, y3)\n",
    "     \n",
    "    # Calculate area of triangle PAC\n",
    "    A2 = area (x1, y1, x, y, x3, y3)\n",
    "     \n",
    "    # Calculate area of triangle PAB\n",
    "    A3 = area (x1, y1, x2, y2, x, y)\n",
    "     \n",
    "    # Check if sum of A1, A2 and A3\n",
    "    # is same as A\n",
    "    if(A == A1 + A2 + A3):\n",
    "        return True\n",
    "    else:\n",
    "        return False"
   ]
  },
  {
   "cell_type": "code",
   "execution_count": 4,
   "metadata": {},
   "outputs": [],
   "source": [
    "def getFreezeFrame(shots, shot_id):\n",
    "    onevone = shots.copy()\n",
    "    ### Plot a shooting Situation\n",
    "    #onevone['shot_freeze_frame'][shot_id][0]['position']['name']\n",
    "    shooter_x = onevone['location'][shot_id][0]\n",
    "    shooter_y = onevone['location'][shot_id][1]\n",
    "\n",
    "    num_players = len(onevone['shot_freeze_frame'][shot_id])\n",
    "    is_gk = np.zeros(num_players)\n",
    "    is_teammate = np.zeros(num_players)\n",
    "    freeze_frame_x = np.zeros(num_players)\n",
    "    freeze_frame_y = np.zeros(num_players)\n",
    "    for i in range(num_players):\n",
    "        freeze_frame_x[i] = onevone['shot_freeze_frame'][shot_id][i]['location'][0]\n",
    "        freeze_frame_y[i] = onevone['shot_freeze_frame'][shot_id][i]['location'][1]\n",
    "        is_gk[i] = onevone['shot_freeze_frame'][shot_id][i]['position']['name'] == 'Goalkeeper'\n",
    "        is_teammate[i] = onevone['shot_freeze_frame'][shot_id][i]['teammate']\n",
    "\n",
    "    attacking_team_x = freeze_frame_x[is_teammate.astype(bool)]\n",
    "    attacking_team_y = freeze_frame_y[is_teammate.astype(bool)]\n",
    "    defending_team_x = freeze_frame_x[~ is_teammate.astype(bool)]\n",
    "    defending_team_y = freeze_frame_y[~ is_teammate.astype(bool)]\n",
    "    gk_x = freeze_frame_x[is_gk.astype(bool)]\n",
    "    gk_y = freeze_frame_y[is_gk.astype(bool)]\n",
    "    return shooter_x,shooter_y,attacking_team_x,attacking_team_y,defending_team_x,defending_team_y,gk_x,gk_y"
   ]
  },
  {
   "cell_type": "code",
   "execution_count": 31,
   "metadata": {},
   "outputs": [
    {
     "data": {
      "text/plain": [
       "True"
      ]
     },
     "execution_count": 31,
     "metadata": {},
     "output_type": "execute_result"
    }
   ],
   "source": [
    "type(getFreezeFrame(wc_1v1s, shot_id=1)[4]) == np.ndarray"
   ]
  },
  {
   "cell_type": "code",
   "execution_count": 32,
   "metadata": {},
   "outputs": [
    {
     "data": {
      "text/plain": [
       "array([1])"
      ]
     },
     "execution_count": 32,
     "metadata": {},
     "output_type": "execute_result"
    }
   ],
   "source": [
    "np.array([1])"
   ]
  },
  {
   "cell_type": "code",
   "execution_count": 34,
   "metadata": {},
   "outputs": [],
   "source": [
    "#Filter for 1v1s\n",
    "#A 1v1 is where the gk is the only defending player in the triangle between the striker\n",
    "#and the goal posts, and the striker is further up the pitch (x) than any defender\n",
    "def is1v1(shots, shot_id):\n",
    "    shooter_x,shooter_y,_,_,defending_team_x,defending_team_y,gk_x,gk_y = getFreezeFrame(shots, shot_id=shot_id)\n",
    "    if len(gk_x) > 0:\n",
    "        remove_gk = ~((defending_team_x == gk_x) & (defending_team_y == gk_y))\n",
    "        defending_team_x = defending_team_x[remove_gk]\n",
    "        defending_team_y = defending_team_y[remove_gk]\n",
    "        post_x = 120\n",
    "        post_1_y = 36\n",
    "        post_2_y = 44\n",
    "        #Check the GK is between the striker and the goal\n",
    "        gk_in_triangle = isInside(shooter_x, shooter_y, post_x, post_1_y, post_x, post_2_y, gk_x[0], gk_y[0])\n",
    "        if type(defending_team_x) != np.ndarray:\n",
    "            defending_team_x = np.array([defending_team_x])\n",
    "            defending_team_y = np.array([defending_team_y])\n",
    "        num_defenders = len(defending_team_x)\n",
    "        defender_in_triangle = np.zeros(num_defenders)\n",
    "        for d in range(num_defenders):\n",
    "            defender_in_triangle[d] = isInside(shooter_x, shooter_y, post_x, post_1_y, post_x, post_2_y, defending_team_x[d], defending_team_y[d])   \n",
    "        isonevone = (gk_in_triangle) & (np.sum(defender_in_triangle) == 0) & (shooter_x >= np.max(defending_team_x))\n",
    "        if isonevone:\n",
    "            return True\n",
    "        else:\n",
    "            return False\n",
    "    else:\n",
    "        return False"
   ]
  },
  {
   "cell_type": "code",
   "execution_count": 36,
   "metadata": {},
   "outputs": [],
   "source": [
    "def get1v1Data(match_path, match_file, event_path, save):\n",
    "    matches_wc = importSBMatches(match_file, path=match_path)\n",
    "    match_ids = matches_wc.match_id\n",
    "    #Get all shots in the World Cup\n",
    "    wc_shots = pd.DataFrame()\n",
    "    for m_id in match_ids:\n",
    "        file_name = str(m_id) + '.json'\n",
    "        events = importSBjson(file_name, path=event_path)\n",
    "        shots = events.loc[events['type_name'] == 'Shot']\n",
    "        wc_shots = wc_shots.append(shots, ignore_index=True)\n",
    "    #Filter for shots with feet that are also from open play\n",
    "    shots = wc_shots[(wc_shots['shot_body_part_name'] == 'Right Foot') | (wc_shots['shot_body_part_name'] == 'Left Foot')].copy()\n",
    "    shots = shots[shots['shot_type_name'] == 'Open Play'].copy()\n",
    "    keep_columns = ['timestamp','duration','play_pattern_name','team_name','location',\n",
    "                    'player_id','player_name','under_pressure','shot_end_location',\n",
    "                    'shot_outcome_name','shot_body_part_name','shot_technique_name',\n",
    "                    'shot_freeze_frame','shot_first_time','match_id']\n",
    "    shots = shots[keep_columns].copy().reset_index(drop=True)\n",
    "    shots['onevone'] = np.zeros(len(shots))\n",
    "    #Filter for 1v1s\n",
    "    for i in range(len(shots)):\n",
    "        shots.loc[i, 'onevone'] = is1v1(shots, shot_id=i)\n",
    "        if i % 100 == 0:\n",
    "            print(i)\n",
    "    onevones = shots[shots.onevone == True].reset_index(drop=True).copy()\n",
    "    onevones['match_id'] = onevones['match_id'].astype(int)\n",
    "    match_info = matches_wc[['match_id','match_date','home_team_home_team_name','away_team_away_team_name']].copy()\n",
    "    onevones = pd.merge(onevones, match_info, on='match_id', how='left')\n",
    "    onevones.to_csv(save, index=True)\n",
    "    return onevones"
   ]
  },
  {
   "cell_type": "code",
   "execution_count": 72,
   "metadata": {},
   "outputs": [],
   "source": [
    "def plotShot(shots, shot_id, save=False, save_name='example_shot'):\n",
    "    onevone = shots.copy()\n",
    "    ### Plot a shooting Situation\n",
    "    #onevone['shot_freeze_frame'][shot_id][0]['position']['name']\n",
    "    #shooter_x = onevone['location'][shot_id][0]\n",
    "    #shooter_y = onevone['location'][shot_id][1]\n",
    "\n",
    "    #num_players = len(onevone['shot_freeze_frame'][shot_id])\n",
    "    #is_gk = np.zeros(num_players)\n",
    "    #is_teammate = np.zeros(num_players)\n",
    "    #freeze_frame_x = np.zeros(num_players)\n",
    "    #freeze_frame_y = np.zeros(num_players)\n",
    "    #for i in range(num_players):\n",
    "    #    freeze_frame_x[i] = onevone['shot_freeze_frame'][shot_id][i]['location'][0]\n",
    "    #    freeze_frame_y[i] = onevone['shot_freeze_frame'][shot_id][i]['location'][1]\n",
    "    #    is_gk[i] = onevone['shot_freeze_frame'][shot_id][i]['position']['name'] == 'Goalkeeper'\n",
    "    #    is_teammate[i] = onevone['shot_freeze_frame'][shot_id][i]['teammate']\n",
    "\n",
    "    #attacking_team_x = freeze_frame_x[is_teammate.astype(bool)]\n",
    "    #attacking_team_y = freeze_frame_y[is_teammate.astype(bool)]\n",
    "    #defending_team_x = freeze_frame_x[~ is_teammate.astype(bool)]\n",
    "    #defending_team_y = freeze_frame_y[~ is_teammate.astype(bool)]\n",
    "    #gk_x = freeze_frame_x[is_gk.astype(bool)]\n",
    "    #gk_y = freeze_frame_y[is_gk.astype(bool)]\n",
    "    \n",
    "    shooter_x,shooter_y,attacking_team_x,attacking_team_y,defending_team_x,defending_team_y,gk_x,gk_y = getFreezeFrame(onevone, shot_id)\n",
    "\n",
    "    pitch = VerticalPitch(half=True, goal_type='box', pad_bottom=-20, \n",
    "                          pitch_color='white', line_color='#31363f')\n",
    "\n",
    "    # We will use mplsoccer's grid function to plot a pitch with a title axis.\n",
    "    fig, axs = pitch.grid(figheight=8, endnote_height=0,  # no endnote\n",
    "                          title_height=0.1, title_space=0.02,\n",
    "                          # Turn off the endnote/title axis. I usually do this after\n",
    "                          # I am happy with the chart layout and text placement\n",
    "                          axis=False,\n",
    "                          grid_height=0.83)\n",
    "\n",
    "    marker_size = 500\n",
    "\n",
    "    sc1 = pitch.scatter(attacking_team_x, attacking_team_y, s=marker_size, c='#727cce', \n",
    "                        label='Attacker', ax=axs['pitch'], zorder=10)\n",
    "\n",
    "    sc2 = pitch.scatter(defending_team_x, defending_team_y, s=marker_size,\n",
    "                        c='#5ba965', label='Defender', ax=axs['pitch'], zorder=9) #Includes GK\n",
    "\n",
    "    sc3 = pitch.scatter(gk_x, gk_y, s=marker_size,\n",
    "                        ax=axs['pitch'], c='#c15ca5', label='Goalkeeper', zorder=11)\n",
    "\n",
    "    sc4 = pitch.scatter(shooter_x, shooter_y, c='#727cce',\n",
    "                        s=marker_size, ax=axs['pitch'], label='Striker', zorder=12)\n",
    "\n",
    "    sc5 = pitch.scatter(shooter_x + 0.6, shooter_y, marker='football',\n",
    "                        s=marker_size / 2, ax=axs['pitch'], zorder=20)\n",
    "\n",
    "    sc6 = pitch.goal_angle(shooter_x, shooter_y, alpha=0.2, color='red', \n",
    "                           ax=axs['pitch'], goal='right',zorder=1)\n",
    "\n",
    "    legend = axs['pitch'].legend(loc='center left', labelspacing=1.5)\n",
    "    for text in legend.get_texts():\n",
    "        #text.set_fontproperties(robotto_regular.prop)\n",
    "        text.set_fontsize(20)\n",
    "        text.set_va('center')\n",
    "\n",
    "    if save:\n",
    "        plt.savefig('../PoseAnalysis/viz/' + save_name + '.png', dpi=500)"
   ]
  },
  {
   "cell_type": "markdown",
   "metadata": {},
   "source": [
    "## Collect 1v1s from Statsbomb"
   ]
  },
  {
   "cell_type": "code",
   "execution_count": 11,
   "metadata": {},
   "outputs": [
    {
     "name": "stdout",
     "output_type": "stream",
     "text": [
      "0\n",
      "100\n",
      "200\n",
      "300\n",
      "400\n",
      "500\n",
      "600\n",
      "700\n",
      "800\n",
      "900\n",
      "1000\n",
      "1100\n",
      "1200\n"
     ]
    }
   ],
   "source": [
    "#Get World Cup 2018 1v1s\n",
    "match_path = 'open-data/data/matches/43/'\n",
    "match_file = '3.json'\n",
    "event_path = 'open-data/data/events/'\n",
    "save = 'worldcup_1v1s.csv'\n",
    "wc_1v1s = get1v1Data(match_path, match_file, event_path, save)"
   ]
  },
  {
   "cell_type": "code",
   "execution_count": 37,
   "metadata": {},
   "outputs": [
    {
     "name": "stdout",
     "output_type": "stream",
     "text": [
      "0\n",
      "100\n",
      "200\n",
      "300\n",
      "400\n",
      "500\n",
      "600\n",
      "700\n",
      "800\n",
      "900\n",
      "1000\n"
     ]
    },
    {
     "name": "stderr",
     "output_type": "stream",
     "text": [
      "/opt/anaconda3/lib/python3.7/site-packages/ipykernel_launcher.py:7: DeprecationWarning: elementwise comparison failed; this will raise an error in the future.\n",
      "  import sys\n"
     ]
    },
    {
     "name": "stdout",
     "output_type": "stream",
     "text": [
      "1100\n",
      "1200\n",
      "1300\n",
      "1400\n",
      "1500\n",
      "1600\n",
      "1700\n",
      "1800\n",
      "1900\n",
      "2000\n",
      "2100\n",
      "2200\n",
      "2300\n",
      "2400\n",
      "2500\n",
      "2600\n",
      "2700\n",
      "2800\n",
      "2900\n",
      "3000\n",
      "3100\n",
      "3200\n",
      "3300\n",
      "3400\n",
      "3500\n",
      "3600\n",
      "3700\n",
      "3800\n",
      "3900\n",
      "4000\n",
      "4100\n",
      "4200\n",
      "4300\n",
      "4400\n",
      "4500\n",
      "4600\n",
      "4700\n",
      "4800\n",
      "4900\n",
      "5000\n",
      "5100\n",
      "5200\n",
      "5300\n",
      "5400\n",
      "5500\n",
      "5600\n",
      "5700\n",
      "5800\n",
      "5900\n",
      "6000\n",
      "6100\n",
      "6200\n",
      "6300\n",
      "6400\n",
      "6500\n",
      "6600\n",
      "6700\n",
      "6800\n",
      "6900\n",
      "7000\n",
      "7100\n",
      "7200\n",
      "7300\n"
     ]
    }
   ],
   "source": [
    "#Get Premier Leauge 2017/2018 1v1s\n",
    "match_path = 'data/matches/2/'\n",
    "match_file = '1.json'\n",
    "event_path = 'data/events/'\n",
    "save = 'prem1718_1v1s.csv'\n",
    "prem1718_1v1s = get1v1Data(match_path, match_file, event_path, save)"
   ]
  },
  {
   "cell_type": "code",
   "execution_count": 39,
   "metadata": {},
   "outputs": [
    {
     "name": "stdout",
     "output_type": "stream",
     "text": [
      "0\n",
      "100\n",
      "200\n",
      "300\n",
      "400\n",
      "500\n",
      "600\n",
      "700\n",
      "800\n",
      "900\n",
      "1000\n",
      "1100\n",
      "1200\n",
      "1300\n",
      "1400\n",
      "1500\n",
      "1600\n"
     ]
    },
    {
     "name": "stderr",
     "output_type": "stream",
     "text": [
      "/opt/anaconda3/lib/python3.7/site-packages/ipykernel_launcher.py:7: DeprecationWarning: elementwise comparison failed; this will raise an error in the future.\n",
      "  import sys\n"
     ]
    },
    {
     "name": "stdout",
     "output_type": "stream",
     "text": [
      "1700\n",
      "1800\n",
      "1900\n",
      "2000\n",
      "2100\n",
      "2200\n",
      "2300\n",
      "2400\n",
      "2500\n",
      "2600\n",
      "2700\n",
      "2800\n",
      "2900\n",
      "3000\n",
      "3100\n",
      "3200\n",
      "3300\n",
      "3400\n",
      "3500\n",
      "3600\n",
      "3700\n",
      "3800\n",
      "3900\n",
      "4000\n",
      "4100\n",
      "4200\n",
      "4300\n",
      "4400\n",
      "4500\n",
      "4600\n",
      "4700\n",
      "4800\n",
      "4900\n",
      "5000\n",
      "5100\n",
      "5200\n",
      "5300\n",
      "5400\n",
      "5500\n",
      "5600\n",
      "5700\n",
      "5800\n",
      "5900\n",
      "6000\n",
      "6100\n",
      "6200\n",
      "6300\n",
      "6400\n",
      "6500\n",
      "6600\n",
      "6700\n",
      "6800\n",
      "6900\n",
      "7000\n",
      "7100\n",
      "7200\n",
      "7300\n"
     ]
    }
   ],
   "source": [
    "#Get Premier Leauge 2018/2019 1v1s\n",
    "match_path = 'data/matches/2/'\n",
    "match_file = '4.json'\n",
    "event_path = 'data/events/'\n",
    "save = 'prem1819_1v1s.csv'\n",
    "prem1819_1v1s = get1v1Data(match_path, match_file, event_path, save)"
   ]
  },
  {
   "cell_type": "code",
   "execution_count": 41,
   "metadata": {},
   "outputs": [
    {
     "data": {
      "text/plain": [
       "0      2019-03-02\n",
       "1      2019-04-20\n",
       "2      2018-12-01\n",
       "3      2019-02-10\n",
       "4      2019-02-10\n",
       "          ...    \n",
       "446    2018-10-28\n",
       "447    2018-10-28\n",
       "448    2018-10-28\n",
       "449    2018-10-05\n",
       "450    2019-02-03\n",
       "Name: match_date, Length: 451, dtype: object"
      ]
     },
     "execution_count": 41,
     "metadata": {},
     "output_type": "execute_result"
    }
   ],
   "source": [
    "#Get Premier Leauge 2018/2019 1v1s\n",
    "match_path = 'data/matches/2/'\n",
    "match_file = '4.json'\n",
    "event_path = 'data/events/'\n",
    "save = 'prem1819_1v1s.csv'\n",
    "prem1819_1v1s = get1v1Data(match_path, match_file, event_path, save)"
   ]
  },
  {
   "cell_type": "code",
   "execution_count": 86,
   "metadata": {},
   "outputs": [],
   "source": [
    "#Combine individual season datasets to create master dataset csv of all 1v1s to analyse\n",
    "files = ['worldcup_1v1s.csv','prem1718_1v1s.csv','prem1819_1v1s.csv']\n",
    "converter = {\n",
    "    'location':ast.literal_eval,\n",
    "    'shot_end_location':ast.literal_eval,\n",
    "    'shot_freeze_frame':ast.literal_eval\n",
    "}\n",
    "df_1v1 = pd.DataFrame()\n",
    "for file in files:\n",
    "    df = pd.read_csv(file, index_col=0, converters=converter)\n",
    "    df_1v1 = df_1v1.append(df, ignore_index=True)\n",
    "df_1v1.to_csv('1v1s.csv', index=True)"
   ]
  },
  {
   "cell_type": "markdown",
   "metadata": {},
   "source": [
    "## Analyse 1v1 Data"
   ]
  },
  {
   "cell_type": "code",
   "execution_count": 88,
   "metadata": {},
   "outputs": [],
   "source": [
    "#Import all 1v1s to analyse\n",
    "df_1v1s = pd.read_csv('1v1s.csv', index_col=0, converters=converter)"
   ]
  },
  {
   "cell_type": "code",
   "execution_count": 139,
   "metadata": {},
   "outputs": [],
   "source": [
    "def get1v1Info(df_1v1s, sid):\n",
    "    print(np.array(df_1v1s.loc[sid,['team_name','player_name','shot_outcome_name',\n",
    "                                    'home_team_home_team_name','away_team_away_team_name',\n",
    "                                    'match_date','play_pattern_name']]))\n",
    "    plotShot(df_1v1s, shot_id=sid)"
   ]
  },
  {
   "cell_type": "code",
   "execution_count": 147,
   "metadata": {},
   "outputs": [
    {
     "name": "stdout",
     "output_type": "stream",
     "text": [
      "['Denmark' 'Martin Braithwaite Christensen' 'Saved' 'Croatia' 'Denmark'\n",
      " '2018-07-01' 'Regular Play']\n"
     ]
    },
    {
     "data": {
      "image/png": "[encoded data removed]",
      "text/plain": [
       "<Figure size 1006.48x576 with 2 Axes>"
      ]
     },
     "metadata": {
      "needs_background": "light"
     },
     "output_type": "display_data"
    }
   ],
   "source": [
    "get1v1Info(df_1v1s, sid=0)"
   ]
  },
  {
   "cell_type": "code",
   "execution_count": null,
   "metadata": {},
   "outputs": [],
   "source": []
  }
 ],
 "metadata": {
  "kernelspec": {
   "display_name": "Python 3",
   "language": "python",
   "name": "python3"
  },
  "language_info": {
   "codemirror_mode": {
    "name": "ipython",
    "version": 3
   },
   "file_extension": ".py",
   "mimetype": "text/x-python",
   "name": "python",
   "nbconvert_exporter": "python",
   "pygments_lexer": "ipython3",
   "version": "3.7.4"
  }
 },
 "nbformat": 4,
 "nbformat_minor": 2
}
